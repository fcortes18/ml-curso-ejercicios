{
 "cells": [
  {
   "cell_type": "markdown",
   "metadata": {},
   "source": [
    "# Serie I - Dominio de Python"
   ]
  },
  {
   "cell_type": "markdown",
   "metadata": {},
   "source": [
    "## E101 - Manejo de listas\n",
    "\n",
    "Define una lista de 10 valores enteros y la lista con cada valor elevado al cuadrado."
   ]
  },
  {
   "cell_type": "code",
   "execution_count": 4,
   "metadata": {},
   "outputs": [
    {
     "name": "stdout",
     "output_type": "stream",
     "text": [
      "Lista original:  [6, 45, 80, 2, 7, 32, 64, 8, 4, 10]\n",
      "Lista con cada valor elevado al cuadrado:  [36, 2025, 6400, 4, 49, 1024, 4096, 64, 16, 100]\n"
     ]
    }
   ],
   "source": [
    "list = [6, 45, 80, 2, 7, 32, 64, 8, 4, 10]\n",
    "print(\"Lista original: \", list)\n",
    "\n",
    "sqrt_list = [item ** 2 for item in list]\n",
    "print(\"Lista con cada valor elevado al cuadrado: \", sqrt_list)"
   ]
  },
  {
   "cell_type": "markdown",
   "metadata": {},
   "source": [
    "## E102 - Manejo de tuplas\n",
    "\n",
    "Define una función que reciba una lista y devuelva el mínimo y máximo de la lista al mismo tiempo."
   ]
  },
  {
   "cell_type": "code",
   "execution_count": 5,
   "metadata": {},
   "outputs": [],
   "source": [
    "def get_min_and_max(list):\n",
    "    return (min(list), max(list))"
   ]
  },
  {
   "cell_type": "code",
   "execution_count": 6,
   "metadata": {},
   "outputs": [
    {
     "name": "stdout",
     "output_type": "stream",
     "text": [
      "(2, 80)\n"
     ]
    }
   ],
   "source": [
    "min_and_max = get_min_and_max(list)\n",
    "print(min_and_max)"
   ]
  },
  {
   "cell_type": "markdown",
   "metadata": {},
   "source": [
    "## E103 - Manejo de Listas de tuplas\n",
    "\n",
    "Define una lista de tuplas con los datos de puntos (x, y). Determina cuál es el promedio de las x, cuál es el promedio de las y."
   ]
  },
  {
   "cell_type": "code",
   "execution_count": 7,
   "metadata": {},
   "outputs": [],
   "source": [
    "def average(list):\n",
    "    return sum(list) / len(list)"
   ]
  },
  {
   "cell_type": "code",
   "execution_count": 11,
   "metadata": {},
   "outputs": [
    {
     "name": "stdout",
     "output_type": "stream",
     "text": [
      "Promedio de las x es: 141.0\n",
      "Promedio de las y es: 81.8\n"
     ]
    }
   ],
   "source": [
    "points_list = [\n",
    "    (23, 53),\n",
    "    (543, 46),\n",
    "    (70, 300),\n",
    "    (8, 9),\n",
    "    (61, 1)\n",
    "]\n",
    "\n",
    "x_points, y_points = zip(*points_list)\n",
    "avg_x = average(x_points)\n",
    "print(\"Promedio de las x es:\", avg_x)\n",
    "\n",
    "avg_y = average(y_points)\n",
    "print(\"Promedio de las y es:\", avg_y)"
   ]
  }
 ],
 "metadata": {
  "kernelspec": {
   "display_name": "Python 3",
   "language": "python",
   "name": "python3"
  },
  "language_info": {
   "codemirror_mode": {
    "name": "ipython",
    "version": 3
   },
   "file_extension": ".py",
   "mimetype": "text/x-python",
   "name": "python",
   "nbconvert_exporter": "python",
   "pygments_lexer": "ipython3",
   "version": "3.9.6"
  }
 },
 "nbformat": 4,
 "nbformat_minor": 2
}
