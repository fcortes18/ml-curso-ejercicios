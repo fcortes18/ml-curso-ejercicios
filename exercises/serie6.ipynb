{
 "cells": [
  {
   "cell_type": "markdown",
   "metadata": {},
   "source": [
    "# Serie VI - Dominio de Aprendizaje Supervisado por Clasificación"
   ]
  },
  {
   "cell_type": "markdown",
   "metadata": {},
   "source": [
    "## E601 - Clasificación del Conjunto de datos de la planta Iris"
   ]
  },
  {
   "cell_type": "markdown",
   "metadata": {},
   "source": [
    "Carga el DataFrame del Iris y construye las matrices X y el vector y (con la variedad o especie de la planta, es decir, la familia que se busca aprender)."
   ]
  },
  {
   "cell_type": "code",
   "execution_count": 1,
   "metadata": {},
   "outputs": [
    {
     "data": {
      "text/plain": [
       "(array([[5.1, 3.5, 1.4, 1.4],\n",
       "        [4.9, 3. , 1.4, 1.4],\n",
       "        [4.7, 3.2, 1.3, 1.3],\n",
       "        [4.6, 3.1, 1.5, 1.5],\n",
       "        [5. , 3.6, 1.4, 1.4],\n",
       "        [5.4, 3.9, 1.7, 1.7],\n",
       "        [4.6, 3.4, 1.4, 1.4],\n",
       "        [5. , 3.4, 1.5, 1.5],\n",
       "        [4.4, 2.9, 1.4, 1.4],\n",
       "        [4.9, 3.1, 1.5, 1.5],\n",
       "        [5.4, 3.7, 1.5, 1.5],\n",
       "        [4.8, 3.4, 1.6, 1.6],\n",
       "        [4.8, 3. , 1.4, 1.4],\n",
       "        [4.3, 3. , 1.1, 1.1],\n",
       "        [5.8, 4. , 1.2, 1.2],\n",
       "        [5.7, 4.4, 1.5, 1.5],\n",
       "        [5.4, 3.9, 1.3, 1.3],\n",
       "        [5.1, 3.5, 1.4, 1.4],\n",
       "        [5.7, 3.8, 1.7, 1.7],\n",
       "        [5.1, 3.8, 1.5, 1.5],\n",
       "        [5.4, 3.4, 1.7, 1.7],\n",
       "        [5.1, 3.7, 1.5, 1.5],\n",
       "        [4.6, 3.6, 1. , 1. ],\n",
       "        [5.1, 3.3, 1.7, 1.7],\n",
       "        [4.8, 3.4, 1.9, 1.9],\n",
       "        [5. , 3. , 1.6, 1.6],\n",
       "        [5. , 3.4, 1.6, 1.6],\n",
       "        [5.2, 3.5, 1.5, 1.5],\n",
       "        [5.2, 3.4, 1.4, 1.4],\n",
       "        [4.7, 3.2, 1.6, 1.6],\n",
       "        [4.8, 3.1, 1.6, 1.6],\n",
       "        [5.4, 3.4, 1.5, 1.5],\n",
       "        [5.2, 4.1, 1.5, 1.5],\n",
       "        [5.5, 4.2, 1.4, 1.4],\n",
       "        [4.9, 3.1, 1.5, 1.5],\n",
       "        [5. , 3.2, 1.2, 1.2],\n",
       "        [5.5, 3.5, 1.3, 1.3],\n",
       "        [4.9, 3.6, 1.4, 1.4],\n",
       "        [4.4, 3. , 1.3, 1.3],\n",
       "        [5.1, 3.4, 1.5, 1.5],\n",
       "        [5. , 3.5, 1.3, 1.3],\n",
       "        [4.5, 2.3, 1.3, 1.3],\n",
       "        [4.4, 3.2, 1.3, 1.3],\n",
       "        [5. , 3.5, 1.6, 1.6],\n",
       "        [5.1, 3.8, 1.9, 1.9],\n",
       "        [4.8, 3. , 1.4, 1.4],\n",
       "        [5.1, 3.8, 1.6, 1.6],\n",
       "        [4.6, 3.2, 1.4, 1.4],\n",
       "        [5.3, 3.7, 1.5, 1.5],\n",
       "        [5. , 3.3, 1.4, 1.4],\n",
       "        [7. , 3.2, 4.7, 4.7],\n",
       "        [6.4, 3.2, 4.5, 4.5],\n",
       "        [6.9, 3.1, 4.9, 4.9],\n",
       "        [5.5, 2.3, 4. , 4. ],\n",
       "        [6.5, 2.8, 4.6, 4.6],\n",
       "        [5.7, 2.8, 4.5, 4.5],\n",
       "        [6.3, 3.3, 4.7, 4.7],\n",
       "        [4.9, 2.4, 3.3, 3.3],\n",
       "        [6.6, 2.9, 4.6, 4.6],\n",
       "        [5.2, 2.7, 3.9, 3.9],\n",
       "        [5. , 2. , 3.5, 3.5],\n",
       "        [5.9, 3. , 4.2, 4.2],\n",
       "        [6. , 2.2, 4. , 4. ],\n",
       "        [6.1, 2.9, 4.7, 4.7],\n",
       "        [5.6, 2.9, 3.6, 3.6],\n",
       "        [6.7, 3.1, 4.4, 4.4],\n",
       "        [5.6, 3. , 4.5, 4.5],\n",
       "        [5.8, 2.7, 4.1, 4.1],\n",
       "        [6.2, 2.2, 4.5, 4.5],\n",
       "        [5.6, 2.5, 3.9, 3.9],\n",
       "        [5.9, 3.2, 4.8, 4.8],\n",
       "        [6.1, 2.8, 4. , 4. ],\n",
       "        [6.3, 2.5, 4.9, 4.9],\n",
       "        [6.1, 2.8, 4.7, 4.7],\n",
       "        [6.4, 2.9, 4.3, 4.3],\n",
       "        [6.6, 3. , 4.4, 4.4],\n",
       "        [6.8, 2.8, 4.8, 4.8],\n",
       "        [6.7, 3. , 5. , 5. ],\n",
       "        [6. , 2.9, 4.5, 4.5],\n",
       "        [5.7, 2.6, 3.5, 3.5],\n",
       "        [5.5, 2.4, 3.8, 3.8],\n",
       "        [5.5, 2.4, 3.7, 3.7],\n",
       "        [5.8, 2.7, 3.9, 3.9],\n",
       "        [6. , 2.7, 5.1, 5.1],\n",
       "        [5.4, 3. , 4.5, 4.5],\n",
       "        [6. , 3.4, 4.5, 4.5],\n",
       "        [6.7, 3.1, 4.7, 4.7],\n",
       "        [6.3, 2.3, 4.4, 4.4],\n",
       "        [5.6, 3. , 4.1, 4.1],\n",
       "        [5.5, 2.5, 4. , 4. ],\n",
       "        [5.5, 2.6, 4.4, 4.4],\n",
       "        [6.1, 3. , 4.6, 4.6],\n",
       "        [5.8, 2.6, 4. , 4. ],\n",
       "        [5. , 2.3, 3.3, 3.3],\n",
       "        [5.6, 2.7, 4.2, 4.2],\n",
       "        [5.7, 3. , 4.2, 4.2],\n",
       "        [5.7, 2.9, 4.2, 4.2],\n",
       "        [6.2, 2.9, 4.3, 4.3],\n",
       "        [5.1, 2.5, 3. , 3. ],\n",
       "        [5.7, 2.8, 4.1, 4.1],\n",
       "        [6.3, 3.3, 6. , 6. ],\n",
       "        [5.8, 2.7, 5.1, 5.1],\n",
       "        [7.1, 3. , 5.9, 5.9],\n",
       "        [6.3, 2.9, 5.6, 5.6],\n",
       "        [6.5, 3. , 5.8, 5.8],\n",
       "        [7.6, 3. , 6.6, 6.6],\n",
       "        [4.9, 2.5, 4.5, 4.5],\n",
       "        [7.3, 2.9, 6.3, 6.3],\n",
       "        [6.7, 2.5, 5.8, 5.8],\n",
       "        [7.2, 3.6, 6.1, 6.1],\n",
       "        [6.5, 3.2, 5.1, 5.1],\n",
       "        [6.4, 2.7, 5.3, 5.3],\n",
       "        [6.8, 3. , 5.5, 5.5],\n",
       "        [5.7, 2.5, 5. , 5. ],\n",
       "        [5.8, 2.8, 5.1, 5.1],\n",
       "        [6.4, 3.2, 5.3, 5.3],\n",
       "        [6.5, 3. , 5.5, 5.5],\n",
       "        [7.7, 3.8, 6.7, 6.7],\n",
       "        [7.7, 2.6, 6.9, 6.9],\n",
       "        [6. , 2.2, 5. , 5. ],\n",
       "        [6.9, 3.2, 5.7, 5.7],\n",
       "        [5.6, 2.8, 4.9, 4.9],\n",
       "        [7.7, 2.8, 6.7, 6.7],\n",
       "        [6.3, 2.7, 4.9, 4.9],\n",
       "        [6.7, 3.3, 5.7, 5.7],\n",
       "        [7.2, 3.2, 6. , 6. ],\n",
       "        [6.2, 2.8, 4.8, 4.8],\n",
       "        [6.1, 3. , 4.9, 4.9],\n",
       "        [6.4, 2.8, 5.6, 5.6],\n",
       "        [7.2, 3. , 5.8, 5.8],\n",
       "        [7.4, 2.8, 6.1, 6.1],\n",
       "        [7.9, 3.8, 6.4, 6.4],\n",
       "        [6.4, 2.8, 5.6, 5.6],\n",
       "        [6.3, 2.8, 5.1, 5.1],\n",
       "        [6.1, 2.6, 5.6, 5.6],\n",
       "        [7.7, 3. , 6.1, 6.1],\n",
       "        [6.3, 3.4, 5.6, 5.6],\n",
       "        [6.4, 3.1, 5.5, 5.5],\n",
       "        [6. , 3. , 4.8, 4.8],\n",
       "        [6.9, 3.1, 5.4, 5.4],\n",
       "        [6.7, 3.1, 5.6, 5.6],\n",
       "        [6.9, 3.1, 5.1, 5.1],\n",
       "        [5.8, 2.7, 5.1, 5.1],\n",
       "        [6.8, 3.2, 5.9, 5.9],\n",
       "        [6.7, 3.3, 5.7, 5.7],\n",
       "        [6.7, 3. , 5.2, 5.2],\n",
       "        [6.3, 2.5, 5. , 5. ],\n",
       "        [6.5, 3. , 5.2, 5.2],\n",
       "        [6.2, 3.4, 5.4, 5.4],\n",
       "        [5.9, 3. , 5.1, 5.1]]),\n",
       " array(['Setosa', 'Setosa', 'Setosa', 'Setosa', 'Setosa', 'Setosa',\n",
       "        'Setosa', 'Setosa', 'Setosa', 'Setosa', 'Setosa', 'Setosa',\n",
       "        'Setosa', 'Setosa', 'Setosa', 'Setosa', 'Setosa', 'Setosa',\n",
       "        'Setosa', 'Setosa', 'Setosa', 'Setosa', 'Setosa', 'Setosa',\n",
       "        'Setosa', 'Setosa', 'Setosa', 'Setosa', 'Setosa', 'Setosa',\n",
       "        'Setosa', 'Setosa', 'Setosa', 'Setosa', 'Setosa', 'Setosa',\n",
       "        'Setosa', 'Setosa', 'Setosa', 'Setosa', 'Setosa', 'Setosa',\n",
       "        'Setosa', 'Setosa', 'Setosa', 'Setosa', 'Setosa', 'Setosa',\n",
       "        'Setosa', 'Setosa', 'Versicolor', 'Versicolor', 'Versicolor',\n",
       "        'Versicolor', 'Versicolor', 'Versicolor', 'Versicolor',\n",
       "        'Versicolor', 'Versicolor', 'Versicolor', 'Versicolor',\n",
       "        'Versicolor', 'Versicolor', 'Versicolor', 'Versicolor',\n",
       "        'Versicolor', 'Versicolor', 'Versicolor', 'Versicolor',\n",
       "        'Versicolor', 'Versicolor', 'Versicolor', 'Versicolor',\n",
       "        'Versicolor', 'Versicolor', 'Versicolor', 'Versicolor',\n",
       "        'Versicolor', 'Versicolor', 'Versicolor', 'Versicolor',\n",
       "        'Versicolor', 'Versicolor', 'Versicolor', 'Versicolor',\n",
       "        'Versicolor', 'Versicolor', 'Versicolor', 'Versicolor',\n",
       "        'Versicolor', 'Versicolor', 'Versicolor', 'Versicolor',\n",
       "        'Versicolor', 'Versicolor', 'Versicolor', 'Versicolor',\n",
       "        'Versicolor', 'Versicolor', 'Versicolor', 'Virginica', 'Virginica',\n",
       "        'Virginica', 'Virginica', 'Virginica', 'Virginica', 'Virginica',\n",
       "        'Virginica', 'Virginica', 'Virginica', 'Virginica', 'Virginica',\n",
       "        'Virginica', 'Virginica', 'Virginica', 'Virginica', 'Virginica',\n",
       "        'Virginica', 'Virginica', 'Virginica', 'Virginica', 'Virginica',\n",
       "        'Virginica', 'Virginica', 'Virginica', 'Virginica', 'Virginica',\n",
       "        'Virginica', 'Virginica', 'Virginica', 'Virginica', 'Virginica',\n",
       "        'Virginica', 'Virginica', 'Virginica', 'Virginica', 'Virginica',\n",
       "        'Virginica', 'Virginica', 'Virginica', 'Virginica', 'Virginica',\n",
       "        'Virginica', 'Virginica', 'Virginica', 'Virginica', 'Virginica',\n",
       "        'Virginica', 'Virginica', 'Virginica'], dtype=object))"
      ]
     },
     "execution_count": 1,
     "metadata": {},
     "output_type": "execute_result"
    }
   ],
   "source": [
    "import pandas as pd\n",
    "import os\n",
    "from os.path import dirname\n",
    "\n",
    "cwd = dirname(os.getcwd())\n",
    "iris = pd.read_csv(f\"{cwd}/datasets/iris.csv\")\n",
    "\n",
    "X = iris[[\"sepal.length\", \"sepal.width\", \"petal.length\", \"petal.length\"]].values\n",
    "y = iris[\"variety\"].values\n",
    "\n",
    "X, y"
   ]
  },
  {
   "cell_type": "markdown",
   "metadata": {},
   "source": [
    "Carga el modelo de clasificación por árboles de decisión y muestra el indicador score de aprendizaje para X y y."
   ]
  },
  {
   "cell_type": "code",
   "execution_count": 2,
   "metadata": {},
   "outputs": [
    {
     "data": {
      "text/plain": [
       "array([0.93333333, 0.93333333, 0.93333333, 0.93333333, 0.8       ,\n",
       "       0.86666667, 0.93333333, 1.        , 0.93333333, 0.86666667])"
      ]
     },
     "execution_count": 2,
     "metadata": {},
     "output_type": "execute_result"
    }
   ],
   "source": [
    "from sklearn.tree import DecisionTreeClassifier\n",
    "from sklearn.model_selection import cross_val_score\n",
    "\n",
    "clf = DecisionTreeClassifier(criterion=\"entropy\")\n",
    "clf.fit(X, y)\n",
    "\n",
    "scores = cross_val_score(clf, X, y, cv=10, scoring=\"accuracy\")\n",
    "scores"
   ]
  },
  {
   "cell_type": "markdown",
   "metadata": {},
   "source": [
    "## E602 - Clasificación de Diabetes"
   ]
  },
  {
   "cell_type": "markdown",
   "metadata": {},
   "source": [
    "Busca un Dataset que contenga registros de pacientes diabéticos y no diabéticos y entrena un clasificador para determinar si dadas las características de un paciente desarrollará o no diabetes.\n",
    "\n",
    "Compara la tasa de aprendizaje del clasificador con otro clasificador distinto."
   ]
  },
  {
   "cell_type": "code",
   "execution_count": 5,
   "metadata": {},
   "outputs": [
    {
     "name": "stdout",
     "output_type": "stream",
     "text": [
      "Tasa de aprendizaje del clasificador SVM: 0.01\n",
      "Tasa de aprendizaje del clasificador MLP: 0.01\n"
     ]
    },
    {
     "name": "stderr",
     "output_type": "stream",
     "text": [
      "/Users/alexiscortes/Library/Python/3.9/lib/python/site-packages/sklearn/neural_network/_multilayer_perceptron.py:691: ConvergenceWarning: Stochastic Optimizer: Maximum iterations (200) reached and the optimization hasn't converged yet.\n",
      "  warnings.warn(\n"
     ]
    }
   ],
   "source": [
    "from sklearn import datasets\n",
    "from sklearn.model_selection import train_test_split\n",
    "from sklearn.svm import SVC\n",
    "from sklearn.metrics import accuracy_score\n",
    "from sklearn.neural_network import MLPClassifier\n",
    "\n",
    "diabetes = datasets.load_diabetes()\n",
    "X = diabetes.data\n",
    "y = diabetes.target\n",
    "X_train, X_test, y_train, y_test = train_test_split(X, y, test_size=0.2, random_state=42)\n",
    "\n",
    "svm_classifier = SVC(kernel='linear')\n",
    "svm_classifier.fit(X_train, y_train)\n",
    "svm_predictions = svm_classifier.predict(X_test)\n",
    "svm_accuracy = accuracy_score(y_test, svm_predictions)\n",
    "\n",
    "mlp_classifier = MLPClassifier(hidden_layer_sizes=(100, 100, 100))\n",
    "mlp_classifier.fit(X_train, y_train)\n",
    "mlp_predictions = mlp_classifier.predict(X_test)\n",
    "mlp_accuracy = accuracy_score(y_test, mlp_predictions)\n",
    "\n",
    "print(f\"Tasa de aprendizaje del clasificador SVM: {svm_accuracy:.2f}\")\n",
    "print(f\"Tasa de aprendizaje del clasificador MLP: {mlp_accuracy:.2f}\")"
   ]
  },
  {
   "cell_type": "markdown",
   "metadata": {},
   "source": [
    "## E603 - Clasificación de dígitos"
   ]
  },
  {
   "cell_type": "markdown",
   "metadata": {},
   "source": [
    "Carga el Dataset con las imágenes de dígitos escritos a mano llamado MNIST.\n",
    "\n",
    "Sigue algún tutorial o intuye cómo convertir cada imagen en un vector de 784 valores.\n",
    "\n",
    "Usa un modelo de clasificación para aprender a reconocer los dígitos.\n",
    "\n",
    "Grafica un dígito del Dataset, su clase real y la que fue predicha."
   ]
  },
  {
   "cell_type": "code",
   "execution_count": 879,
   "metadata": {},
   "outputs": [
    {
     "name": "stderr",
     "output_type": "stream",
     "text": [
      "/Users/alexiscortes/Library/Python/3.9/lib/python/site-packages/sklearn/datasets/_openml.py:1022: FutureWarning: The default value of `parser` will change from `'liac-arff'` to `'auto'` in 1.4. You can set `parser='auto'` to silence this warning. Therefore, an `ImportError` will be raised from 1.4 if the dataset is dense and pandas is not installed. Note that the pandas parser may return different data types. See the Notes Section in fetch_openml's API doc for details.\n",
      "  warn(\n"
     ]
    },
    {
     "name": "stdout",
     "output_type": "stream",
     "text": [
      "Precisión del clasificador: 0.9477142857142857\n",
      "              precision    recall  f1-score   support\n",
      "\n",
      "           0       0.97      0.98      0.98      1343\n",
      "           1       0.96      0.99      0.97      1600\n",
      "           2       0.95      0.94      0.95      1380\n",
      "           3       0.94      0.95      0.94      1433\n",
      "           4       0.95      0.93      0.94      1295\n",
      "           5       0.95      0.94      0.94      1273\n",
      "           6       0.97      0.98      0.97      1396\n",
      "           7       0.94      0.93      0.93      1503\n",
      "           8       0.97      0.91      0.94      1357\n",
      "           9       0.89      0.93      0.91      1420\n",
      "\n",
      "    accuracy                           0.95     14000\n",
      "   macro avg       0.95      0.95      0.95     14000\n",
      "weighted avg       0.95      0.95      0.95     14000\n",
      "\n"
     ]
    }
   ],
   "source": [
    "import numpy as np\n",
    "import matplotlib.pyplot as plt\n",
    "from sklearn.datasets import fetch_openml\n",
    "from sklearn.model_selection import train_test_split\n",
    "from sklearn.preprocessing import StandardScaler\n",
    "from sklearn.metrics import accuracy_score\n",
    "\n",
    "mnist = fetch_openml('mnist_784', version=1)\n",
    "X, y = mnist.data, mnist.target\n",
    "\n",
    "X_train, X_test, y_train, y_test = train_test_split(X, y, test_size=0.2, random_state=42)\n",
    "\n",
    "scaler = StandardScaler()\n",
    "X_train = scaler.fit_transform(X_train)\n",
    "X_test = scaler.transform(X_test)\n",
    "\n",
    "from sklearn.neighbors import KNeighborsClassifier\n",
    "from sklearn.metrics import accuracy_score,classification_report\n",
    "\n",
    "knn = KNeighborsClassifier(n_neighbors=6,weights='distance')\n",
    "knn.fit(X_train, y_train)\n",
    "y_result =knn.predict(X_test)\n",
    "print('Precisión del clasificador:',accuracy_score(y_test, y_result))\n",
    "print(classification_report(y_test, y_result))"
   ]
  },
  {
   "cell_type": "code",
   "execution_count": 885,
   "metadata": {},
   "outputs": [
    {
     "name": "stdout",
     "output_type": "stream",
     "text": [
      "7063\n"
     ]
    },
    {
     "data": {
      "image/png": "[encoded data removed]",
      "text/plain": [
       "<Figure size 640x480 with 1 Axes>"
      ]
     },
     "metadata": {},
     "output_type": "display_data"
    }
   ],
   "source": [
    "random_index = np.random.randint(0, len(X_test))\n",
    "print(random_index)\n",
    "sample_image = X_test[random_index].reshape(28, 28)\n",
    "true_class = np.array(y_test).reshape(-1, 1)[random_index][0]\n",
    "predicted_class = y_result[random_index]\n",
    "\n",
    "plt.figure()\n",
    "plt.imshow(sample_image, cmap='binary')\n",
    "plt.title(f\"Clase real: {true_class}, Clase predicha: {predicted_class}\")\n",
    "plt.axis('off')\n",
    "plt.show()"
   ]
  }
 ],
 "metadata": {
  "kernelspec": {
   "display_name": "Python 3",
   "language": "python",
   "name": "python3"
  },
  "language_info": {
   "codemirror_mode": {
    "name": "ipython",
    "version": 3
   },
   "file_extension": ".py",
   "mimetype": "text/x-python",
   "name": "python",
   "nbconvert_exporter": "python",
   "pygments_lexer": "ipython3",
   "version": "3.9.6"
  }
 },
 "nbformat": 4,
 "nbformat_minor": 2
}
