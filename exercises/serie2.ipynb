{
 "cells": [
  {
   "cell_type": "markdown",
   "metadata": {},
   "source": [
    "# Serie II - Dominio de Numpy"
   ]
  },
  {
   "cell_type": "code",
   "execution_count": 12,
   "metadata": {},
   "outputs": [
    {
     "name": "stdout",
     "output_type": "stream",
     "text": [
      "Defaulting to user installation because normal site-packages is not writeable\n",
      "Requirement already satisfied: numpy in /Users/alexiscortes/Library/Python/3.9/lib/python/site-packages (1.26.1)\n",
      "\u001b[33mWARNING: You are using pip version 21.2.4; however, version 23.3 is available.\n",
      "You should consider upgrading via the '/Library/Developer/CommandLineTools/usr/bin/python3 -m pip install --upgrade pip' command.\u001b[0m\n"
     ]
    }
   ],
   "source": [
    "! pip3 install numpy"
   ]
  },
  {
   "cell_type": "code",
   "execution_count": null,
   "metadata": {},
   "outputs": [],
   "source": [
    "import numpy as np"
   ]
  },
  {
   "cell_type": "markdown",
   "metadata": {},
   "source": [
    "## E201 - Manejo de arreglos\n",
    "\n",
    "Crea un arreglo de 20 puntos con valores aleatorios bajo la distribución normal con media 5 y desviación estándar 2.5.\n"
   ]
  },
  {
   "cell_type": "code",
   "execution_count": 71,
   "metadata": {},
   "outputs": [],
   "source": [
    "def points_normal_distribution(mean, std, sample):\n",
    "    import numpy as np\n",
    "    return np.random.normal(mean, std, sample)"
   ]
  },
  {
   "cell_type": "code",
   "execution_count": 79,
   "metadata": {},
   "outputs": [
    {
     "name": "stdout",
     "output_type": "stream",
     "text": [
      "[-0.64359352  3.55974783  4.95736482  1.70937173  5.60034197  0.4572933\n",
      "  2.48208357  3.77356638  4.25390594  3.53868386  3.70392314  1.9635014\n",
      "  1.76910538  5.76070776  2.1350208   9.39821276  5.38453419  2.3304443\n",
      "  3.72845074  7.63958606]\n"
     ]
    }
   ],
   "source": [
    "points = points_normal_distribution(5, 2.5, 20)\n",
    "print(points)"
   ]
  },
  {
   "cell_type": "markdown",
   "metadata": {},
   "source": [
    "## E202 - Operaciones de arreglos\n",
    "\n",
    "Crea un arreglo de 100 puntos y determina la suma, el promedio, el mínimo, el máximo, la desviación estándar y los cuantiles 25%, 50% y 75%.\n"
   ]
  },
  {
   "cell_type": "code",
   "execution_count": 115,
   "metadata": {},
   "outputs": [
    {
     "name": "stdout",
     "output_type": "stream",
     "text": [
      "Lista:  [13, 0, 11, 9, 7, 11, 4, 0, 0, 8, 1, 1, 5, 1, 0, 9, 12, 0, 10, 11, 8, 9, 5, 11, 1, 11, 12, 10, 7, 4, 1, 0, 11, 10, 10, 11, 9, 9, 12, 13, 3, 0, 7, 6, 11, 12, 13, 9, 12, 11, 0, 12, 7, 8, 2, 6, 2, 1, 7, 12, 12, 1, 10, 8, 3, 7, 2, 4, 12, 8, 11, 12, 13, 8, 5, 10, 5, 2, 7, 13, 2, 6, 2, 7, 5, 1, 6, 0, 4, 3, 4, 9, 1, 0, 13, 13, 8, 7, 8, 4]\n",
      "Suma:  674\n",
      "Promedio:  6.74\n",
      "Mínimo:  0\n",
      "Máximo:  13\n",
      "Cuantil 25%:  2.75\n",
      "Cuantil 50%:  7.0\n",
      "Cuantil 75%:  11.0\n"
     ]
    }
   ],
   "source": [
    "import numpy as np\n",
    "random_list = list(np.random.choice(np.random.randint(0, 100), 100))\n",
    "sum = np.sum(random_list)\n",
    "avg = np.average(random_list)\n",
    "min = np.min(random_list)\n",
    "max = np.max(random_list)\n",
    "std = np.std(random_list)\n",
    "quantile_25 = np.quantile(random_list, 0.25)\n",
    "quantile_50 = np.quantile(random_list, 0.50)\n",
    "quantile_75 = np.quantile(random_list, 0.75)\n",
    "\n",
    "print(\"Lista: \", random_list)\n",
    "print(\"Suma: \", sum)\n",
    "print(\"Promedio: \", avg)\n",
    "print(\"Mínimo: \", min)\n",
    "print(\"Máximo: \", max)\n",
    "print(\"Cuantil 25%: \", quantile_25)\n",
    "print(\"Cuantil 50%: \", quantile_50)\n",
    "print(\"Cuantil 75%: \", quantile_75)"
   ]
  },
  {
   "cell_type": "markdown",
   "metadata": {},
   "source": [
    "## E203 - Operaciones de matrices\n",
    "\n",
    "Crea una matriz de 10x5 y recupera el arreglo con los valores de la primera columna, la segunda columna, la tercera columna, la cuarta columna y la quinta columna.\n"
   ]
  },
  {
   "cell_type": "code",
   "execution_count": 188,
   "metadata": {},
   "outputs": [
    {
     "name": "stdout",
     "output_type": "stream",
     "text": [
      "Matriz: \n",
      " [[73 18 25 12  0]\n",
      " [ 6  1 70 31 28]\n",
      " [ 8 49 35 86 76]\n",
      " [70 97 81 78 28]\n",
      " [ 0 72 17  0 17]\n",
      " [96 85 92 28  0]\n",
      " [14 94 41 24 83]\n",
      " [21 25 36  3 20]\n",
      " [15 97 79  7 61]\n",
      " [52 99 73 42 38]]\n",
      "Arreglo columna 1:  [73  6  8 70  0 96 14 21 15 52]\n",
      "Arreglo columna 2:  [18  1 49 97 72 85 94 25 97 99]\n",
      "Arreglo columna 3:  [25 70 35 81 17 92 41 36 79 73]\n",
      "Arreglo columna 4:  [12 31 86 78  0 28 24  3  7 42]\n",
      "Arreglo columna 5:  [ 0 28 76 28 17  0 83 20 61 38]\n"
     ]
    }
   ],
   "source": [
    "matrix = np.matrix(np.random.randint(0, 100, size = (10, 5)))\n",
    "m, n = matrix.shape\n",
    "print(\"Matriz: \\n\", matrix)\n",
    "for i in range(n):\n",
    "    print(f\"Arreglo columna {i + 1}: \", np.asarray(matrix[:, i]).flatten())"
   ]
  }
 ],
 "metadata": {
  "kernelspec": {
   "display_name": "Python 3",
   "language": "python",
   "name": "python3"
  },
  "language_info": {
   "codemirror_mode": {
    "name": "ipython",
    "version": 3
   },
   "file_extension": ".py",
   "mimetype": "text/x-python",
   "name": "python",
   "nbconvert_exporter": "python",
   "pygments_lexer": "ipython3",
   "version": "3.9.6"
  }
 },
 "nbformat": 4,
 "nbformat_minor": 2
}
